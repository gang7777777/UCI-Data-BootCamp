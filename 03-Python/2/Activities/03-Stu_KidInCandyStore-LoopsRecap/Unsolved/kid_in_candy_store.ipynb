{
 "cells": [
  {
   "cell_type": "code",
   "execution_count": 2,
   "metadata": {},
   "outputs": [
    {
     "name": "stdout",
     "output_type": "stream",
     "text": [
      "[0]Snickers\n",
      "[1]Kit Kat\n",
      "[2]Sour Patch Kids\n",
      "[3]Juicy Fruit\n",
      "[4]Swedish Fish\n",
      "[5]Skittles\n",
      "[6]Hershey Bar\n",
      "[7]Starbursts\n",
      "[8]M&Ms\n"
     ]
    }
   ],
   "source": [
    "# The list of candies to print to the screen\n",
    "candy_list = [\"Snickers\", \"Kit Kat\", \"Sour Patch Kids\", \"Juicy Fruit\", \"Swedish Fish\", \"Skittles\", \"Hershey Bar\", \"Starbursts\", \"M&Ms\"]\n",
    "for candy in candy_list:\n",
    "    print(f\"[{str(candy_list.index(candy))}]{candy}\")\n"
   ]
  },
  {
   "cell_type": "code",
   "execution_count": 5,
   "metadata": {},
   "outputs": [],
   "source": [
    "    \n",
    "# The amount of candy the user will be allowed to choose\n",
    "allowance = 5\n",
    "\n",
    "# The list used to store all of the candies selected inside of\n",
    "candy_cart = []\n",
    "for x in range(allowance):\n",
    "    selected=input(\"what you want, give me a number?\")\n",
    "    candy_cart.append(candy_list[int(selected)])"
   ]
  },
  {
   "cell_type": "code",
   "execution_count": 6,
   "metadata": {},
   "outputs": [
    {
     "name": "stdout",
     "output_type": "stream",
     "text": [
      "Kit Kat\n",
      "Sour Patch Kids\n",
      "Skittles\n",
      "Hershey Bar\n",
      "M&Ms\n"
     ]
    }
   ],
   "source": [
    "\n",
    "# Print out options\n",
    "for candy in candy_cart:\n",
    "    print(candy)\n"
   ]
  }
 ],
 "metadata": {
  "kernelspec": {
   "display_name": "Python 3",
   "language": "python",
   "name": "python3"
  },
  "language_info": {
   "codemirror_mode": {
    "name": "ipython",
    "version": 3
   },
   "file_extension": ".py",
   "mimetype": "text/x-python",
   "name": "python",
   "nbconvert_exporter": "python",
   "pygments_lexer": "ipython3",
   "version": "3.11.2"
  },
  "orig_nbformat": 4
 },
 "nbformat": 4,
 "nbformat_minor": 2
}
