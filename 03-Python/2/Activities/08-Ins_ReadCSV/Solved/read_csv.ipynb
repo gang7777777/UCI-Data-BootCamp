{
 "cells": [
  {
   "cell_type": "code",
   "execution_count": 1,
   "metadata": {},
   "outputs": [],
   "source": [
    "import os\n",
    "import csv"
   ]
  },
  {
   "cell_type": "code",
   "execution_count": 3,
   "metadata": {},
   "outputs": [
    {
     "data": {
      "text/plain": [
       "'../Resources/contacts.csv'"
      ]
     },
     "execution_count": 3,
     "metadata": {},
     "output_type": "execute_result"
    }
   ],
   "source": [
    "csvpath=os.path.join('..','Resources','contacts.csv')\n",
    "csvpath"
   ]
  },
  {
   "cell_type": "code",
   "execution_count": 8,
   "metadata": {},
   "outputs": [
    {
     "name": "stdout",
     "output_type": "stream",
     "text": [
      "['First Name', 'Last Name', 'Phone']\n",
      "Bolduc\n",
      "Hanburry\n",
      "Beeres\n",
      "Surgeon\n",
      "Park\n",
      "Camier\n",
      "Martinez\n",
      "De'Ath\n",
      "Clewlow\n",
      "Xiu\n",
      "Spikings\n",
      "Tootal\n"
     ]
    }
   ],
   "source": [
    "with open(csvpath) as csvfile:\n",
    "    csvreader=csv.reader(csvfile, delimiter=',')\n",
    "    # print(csvreader)\n",
    "    csv_header=next(csvreader)\n",
    "    print(csv_header)\n",
    "\n",
    "    for row in csvreader:\n",
    "        print(row[1])"
   ]
  },
  {
   "cell_type": "code",
   "execution_count": null,
   "metadata": {},
   "outputs": [],
   "source": []
  }
 ],
 "metadata": {
  "kernelspec": {
   "display_name": "Python 3",
   "language": "python",
   "name": "python3"
  },
  "language_info": {
   "codemirror_mode": {
    "name": "ipython",
    "version": 3
   },
   "file_extension": ".py",
   "mimetype": "text/x-python",
   "name": "python",
   "nbconvert_exporter": "python",
   "pygments_lexer": "ipython3",
   "version": "3.11.2"
  },
  "orig_nbformat": 4
 },
 "nbformat": 4,
 "nbformat_minor": 2
}
